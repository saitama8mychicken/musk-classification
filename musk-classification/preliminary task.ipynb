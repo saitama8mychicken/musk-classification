{
 "cells": [
  {
   "cell_type": "code",
   "execution_count": 1,
   "metadata": {},
   "outputs": [],
   "source": [
    "import pandas as pd\n",
    "import numpy as np\n",
    "import matplotlib.pyplot as plt"
   ]
  },
  {
   "cell_type": "code",
   "execution_count": 2,
   "metadata": {},
   "outputs": [],
   "source": [
    "df = pd.read_csv(\"musk_csv.csv\")"
   ]
  },
  {
   "cell_type": "code",
   "execution_count": 3,
   "metadata": {},
   "outputs": [
    {
     "data": {
      "text/plain": [
       "(6598, 170)"
      ]
     },
     "execution_count": 3,
     "metadata": {},
     "output_type": "execute_result"
    }
   ],
   "source": [
    "df.shape"
   ]
  },
  {
   "cell_type": "code",
   "execution_count": 4,
   "metadata": {},
   "outputs": [
    {
     "data": {
      "text/html": [
       "<div>\n",
       "<style scoped>\n",
       "    .dataframe tbody tr th:only-of-type {\n",
       "        vertical-align: middle;\n",
       "    }\n",
       "\n",
       "    .dataframe tbody tr th {\n",
       "        vertical-align: top;\n",
       "    }\n",
       "\n",
       "    .dataframe thead th {\n",
       "        text-align: right;\n",
       "    }\n",
       "</style>\n",
       "<table border=\"1\" class=\"dataframe\">\n",
       "  <thead>\n",
       "    <tr style=\"text-align: right;\">\n",
       "      <th></th>\n",
       "      <th>ID</th>\n",
       "      <th>molecule_name</th>\n",
       "      <th>conformation_name</th>\n",
       "      <th>f1</th>\n",
       "      <th>f2</th>\n",
       "      <th>f3</th>\n",
       "      <th>f4</th>\n",
       "      <th>f5</th>\n",
       "      <th>f6</th>\n",
       "      <th>f7</th>\n",
       "      <th>...</th>\n",
       "      <th>f158</th>\n",
       "      <th>f159</th>\n",
       "      <th>f160</th>\n",
       "      <th>f161</th>\n",
       "      <th>f162</th>\n",
       "      <th>f163</th>\n",
       "      <th>f164</th>\n",
       "      <th>f165</th>\n",
       "      <th>f166</th>\n",
       "      <th>class</th>\n",
       "    </tr>\n",
       "  </thead>\n",
       "  <tbody>\n",
       "    <tr>\n",
       "      <td>0</td>\n",
       "      <td>1</td>\n",
       "      <td>MUSK-211</td>\n",
       "      <td>211_1+1</td>\n",
       "      <td>46</td>\n",
       "      <td>-108</td>\n",
       "      <td>-60</td>\n",
       "      <td>-69</td>\n",
       "      <td>-117</td>\n",
       "      <td>49</td>\n",
       "      <td>38</td>\n",
       "      <td>...</td>\n",
       "      <td>-308</td>\n",
       "      <td>52</td>\n",
       "      <td>-7</td>\n",
       "      <td>39</td>\n",
       "      <td>126</td>\n",
       "      <td>156</td>\n",
       "      <td>-50</td>\n",
       "      <td>-112</td>\n",
       "      <td>96</td>\n",
       "      <td>1</td>\n",
       "    </tr>\n",
       "    <tr>\n",
       "      <td>1</td>\n",
       "      <td>2</td>\n",
       "      <td>MUSK-211</td>\n",
       "      <td>211_1+10</td>\n",
       "      <td>41</td>\n",
       "      <td>-188</td>\n",
       "      <td>-145</td>\n",
       "      <td>22</td>\n",
       "      <td>-117</td>\n",
       "      <td>-6</td>\n",
       "      <td>57</td>\n",
       "      <td>...</td>\n",
       "      <td>-59</td>\n",
       "      <td>-2</td>\n",
       "      <td>52</td>\n",
       "      <td>103</td>\n",
       "      <td>136</td>\n",
       "      <td>169</td>\n",
       "      <td>-61</td>\n",
       "      <td>-136</td>\n",
       "      <td>79</td>\n",
       "      <td>1</td>\n",
       "    </tr>\n",
       "    <tr>\n",
       "      <td>2</td>\n",
       "      <td>3</td>\n",
       "      <td>MUSK-211</td>\n",
       "      <td>211_1+11</td>\n",
       "      <td>46</td>\n",
       "      <td>-194</td>\n",
       "      <td>-145</td>\n",
       "      <td>28</td>\n",
       "      <td>-117</td>\n",
       "      <td>73</td>\n",
       "      <td>57</td>\n",
       "      <td>...</td>\n",
       "      <td>-134</td>\n",
       "      <td>-154</td>\n",
       "      <td>57</td>\n",
       "      <td>143</td>\n",
       "      <td>142</td>\n",
       "      <td>165</td>\n",
       "      <td>-67</td>\n",
       "      <td>-145</td>\n",
       "      <td>39</td>\n",
       "      <td>1</td>\n",
       "    </tr>\n",
       "    <tr>\n",
       "      <td>3</td>\n",
       "      <td>4</td>\n",
       "      <td>MUSK-211</td>\n",
       "      <td>211_1+12</td>\n",
       "      <td>41</td>\n",
       "      <td>-188</td>\n",
       "      <td>-145</td>\n",
       "      <td>22</td>\n",
       "      <td>-117</td>\n",
       "      <td>-7</td>\n",
       "      <td>57</td>\n",
       "      <td>...</td>\n",
       "      <td>-60</td>\n",
       "      <td>-4</td>\n",
       "      <td>52</td>\n",
       "      <td>104</td>\n",
       "      <td>136</td>\n",
       "      <td>168</td>\n",
       "      <td>-60</td>\n",
       "      <td>-135</td>\n",
       "      <td>80</td>\n",
       "      <td>1</td>\n",
       "    </tr>\n",
       "    <tr>\n",
       "      <td>4</td>\n",
       "      <td>5</td>\n",
       "      <td>MUSK-211</td>\n",
       "      <td>211_1+13</td>\n",
       "      <td>41</td>\n",
       "      <td>-188</td>\n",
       "      <td>-145</td>\n",
       "      <td>22</td>\n",
       "      <td>-117</td>\n",
       "      <td>-7</td>\n",
       "      <td>57</td>\n",
       "      <td>...</td>\n",
       "      <td>-60</td>\n",
       "      <td>-4</td>\n",
       "      <td>52</td>\n",
       "      <td>104</td>\n",
       "      <td>137</td>\n",
       "      <td>168</td>\n",
       "      <td>-60</td>\n",
       "      <td>-135</td>\n",
       "      <td>80</td>\n",
       "      <td>1</td>\n",
       "    </tr>\n",
       "  </tbody>\n",
       "</table>\n",
       "<p>5 rows × 170 columns</p>\n",
       "</div>"
      ],
      "text/plain": [
       "   ID molecule_name conformation_name  f1   f2   f3  f4   f5  f6  f7  ...  \\\n",
       "0   1      MUSK-211           211_1+1  46 -108  -60 -69 -117  49  38  ...   \n",
       "1   2      MUSK-211          211_1+10  41 -188 -145  22 -117  -6  57  ...   \n",
       "2   3      MUSK-211          211_1+11  46 -194 -145  28 -117  73  57  ...   \n",
       "3   4      MUSK-211          211_1+12  41 -188 -145  22 -117  -7  57  ...   \n",
       "4   5      MUSK-211          211_1+13  41 -188 -145  22 -117  -7  57  ...   \n",
       "\n",
       "   f158  f159  f160  f161  f162  f163  f164  f165  f166  class  \n",
       "0  -308    52    -7    39   126   156   -50  -112    96      1  \n",
       "1   -59    -2    52   103   136   169   -61  -136    79      1  \n",
       "2  -134  -154    57   143   142   165   -67  -145    39      1  \n",
       "3   -60    -4    52   104   136   168   -60  -135    80      1  \n",
       "4   -60    -4    52   104   137   168   -60  -135    80      1  \n",
       "\n",
       "[5 rows x 170 columns]"
      ]
     },
     "execution_count": 4,
     "metadata": {},
     "output_type": "execute_result"
    }
   ],
   "source": [
    "df.head()"
   ]
  },
  {
   "cell_type": "code",
   "execution_count": 5,
   "metadata": {},
   "outputs": [
    {
     "data": {
      "text/plain": [
       "252_1+87      1\n",
       "252_1+128     1\n",
       "j146_2+33     1\n",
       "252_2+282     1\n",
       "287_2+18      1\n",
       "             ..\n",
       "192_1+76      1\n",
       "j147_2+119    1\n",
       "326_3+11      1\n",
       "251_2+25      1\n",
       "197_1+239     1\n",
       "Name: conformation_name, Length: 6598, dtype: int64"
      ]
     },
     "execution_count": 5,
     "metadata": {},
     "output_type": "execute_result"
    }
   ],
   "source": [
    "# see if duplicate values exists \n",
    "df.conformation_name.value_counts()\n",
    "# hence no duplicate values\n",
    "# this column is of no use for later use"
   ]
  },
  {
   "cell_type": "code",
   "execution_count": 6,
   "metadata": {},
   "outputs": [
    {
     "data": {
      "text/plain": [
       "0    5581\n",
       "1    1017\n",
       "Name: class, dtype: int64"
      ]
     },
     "execution_count": 6,
     "metadata": {},
     "output_type": "execute_result"
    }
   ],
   "source": [
    "# find the frequencies of different class\n",
    "# find the \n",
    "# this shows that data is not evenly distributed \n",
    "df['class'].value_counts()"
   ]
  },
  {
   "cell_type": "code",
   "execution_count": 7,
   "metadata": {},
   "outputs": [],
   "source": [
    "# new data frame with only necessary columns\n",
    "data = df.drop(['molecule_name', 'ID', 'conformation_name', 'class'], axis = 1)\n",
    "labels = df['class']"
   ]
  },
  {
   "cell_type": "code",
   "execution_count": 8,
   "metadata": {},
   "outputs": [
    {
     "data": {
      "text/html": [
       "<div>\n",
       "<style scoped>\n",
       "    .dataframe tbody tr th:only-of-type {\n",
       "        vertical-align: middle;\n",
       "    }\n",
       "\n",
       "    .dataframe tbody tr th {\n",
       "        vertical-align: top;\n",
       "    }\n",
       "\n",
       "    .dataframe thead th {\n",
       "        text-align: right;\n",
       "    }\n",
       "</style>\n",
       "<table border=\"1\" class=\"dataframe\">\n",
       "  <thead>\n",
       "    <tr style=\"text-align: right;\">\n",
       "      <th></th>\n",
       "      <th>f1</th>\n",
       "      <th>f2</th>\n",
       "      <th>f3</th>\n",
       "      <th>f4</th>\n",
       "      <th>f5</th>\n",
       "      <th>f6</th>\n",
       "      <th>f7</th>\n",
       "      <th>f8</th>\n",
       "      <th>f9</th>\n",
       "      <th>f10</th>\n",
       "      <th>...</th>\n",
       "      <th>f157</th>\n",
       "      <th>f158</th>\n",
       "      <th>f159</th>\n",
       "      <th>f160</th>\n",
       "      <th>f161</th>\n",
       "      <th>f162</th>\n",
       "      <th>f163</th>\n",
       "      <th>f164</th>\n",
       "      <th>f165</th>\n",
       "      <th>f166</th>\n",
       "    </tr>\n",
       "  </thead>\n",
       "  <tbody>\n",
       "    <tr>\n",
       "      <td>0</td>\n",
       "      <td>46</td>\n",
       "      <td>-108</td>\n",
       "      <td>-60</td>\n",
       "      <td>-69</td>\n",
       "      <td>-117</td>\n",
       "      <td>49</td>\n",
       "      <td>38</td>\n",
       "      <td>-161</td>\n",
       "      <td>-8</td>\n",
       "      <td>5</td>\n",
       "      <td>...</td>\n",
       "      <td>-244</td>\n",
       "      <td>-308</td>\n",
       "      <td>52</td>\n",
       "      <td>-7</td>\n",
       "      <td>39</td>\n",
       "      <td>126</td>\n",
       "      <td>156</td>\n",
       "      <td>-50</td>\n",
       "      <td>-112</td>\n",
       "      <td>96</td>\n",
       "    </tr>\n",
       "    <tr>\n",
       "      <td>1</td>\n",
       "      <td>41</td>\n",
       "      <td>-188</td>\n",
       "      <td>-145</td>\n",
       "      <td>22</td>\n",
       "      <td>-117</td>\n",
       "      <td>-6</td>\n",
       "      <td>57</td>\n",
       "      <td>-171</td>\n",
       "      <td>-39</td>\n",
       "      <td>-100</td>\n",
       "      <td>...</td>\n",
       "      <td>-235</td>\n",
       "      <td>-59</td>\n",
       "      <td>-2</td>\n",
       "      <td>52</td>\n",
       "      <td>103</td>\n",
       "      <td>136</td>\n",
       "      <td>169</td>\n",
       "      <td>-61</td>\n",
       "      <td>-136</td>\n",
       "      <td>79</td>\n",
       "    </tr>\n",
       "    <tr>\n",
       "      <td>2</td>\n",
       "      <td>46</td>\n",
       "      <td>-194</td>\n",
       "      <td>-145</td>\n",
       "      <td>28</td>\n",
       "      <td>-117</td>\n",
       "      <td>73</td>\n",
       "      <td>57</td>\n",
       "      <td>-168</td>\n",
       "      <td>-39</td>\n",
       "      <td>-22</td>\n",
       "      <td>...</td>\n",
       "      <td>-238</td>\n",
       "      <td>-134</td>\n",
       "      <td>-154</td>\n",
       "      <td>57</td>\n",
       "      <td>143</td>\n",
       "      <td>142</td>\n",
       "      <td>165</td>\n",
       "      <td>-67</td>\n",
       "      <td>-145</td>\n",
       "      <td>39</td>\n",
       "    </tr>\n",
       "    <tr>\n",
       "      <td>3</td>\n",
       "      <td>41</td>\n",
       "      <td>-188</td>\n",
       "      <td>-145</td>\n",
       "      <td>22</td>\n",
       "      <td>-117</td>\n",
       "      <td>-7</td>\n",
       "      <td>57</td>\n",
       "      <td>-170</td>\n",
       "      <td>-39</td>\n",
       "      <td>-99</td>\n",
       "      <td>...</td>\n",
       "      <td>-236</td>\n",
       "      <td>-60</td>\n",
       "      <td>-4</td>\n",
       "      <td>52</td>\n",
       "      <td>104</td>\n",
       "      <td>136</td>\n",
       "      <td>168</td>\n",
       "      <td>-60</td>\n",
       "      <td>-135</td>\n",
       "      <td>80</td>\n",
       "    </tr>\n",
       "    <tr>\n",
       "      <td>4</td>\n",
       "      <td>41</td>\n",
       "      <td>-188</td>\n",
       "      <td>-145</td>\n",
       "      <td>22</td>\n",
       "      <td>-117</td>\n",
       "      <td>-7</td>\n",
       "      <td>57</td>\n",
       "      <td>-170</td>\n",
       "      <td>-39</td>\n",
       "      <td>-99</td>\n",
       "      <td>...</td>\n",
       "      <td>-236</td>\n",
       "      <td>-60</td>\n",
       "      <td>-4</td>\n",
       "      <td>52</td>\n",
       "      <td>104</td>\n",
       "      <td>137</td>\n",
       "      <td>168</td>\n",
       "      <td>-60</td>\n",
       "      <td>-135</td>\n",
       "      <td>80</td>\n",
       "    </tr>\n",
       "  </tbody>\n",
       "</table>\n",
       "<p>5 rows × 166 columns</p>\n",
       "</div>"
      ],
      "text/plain": [
       "   f1   f2   f3  f4   f5  f6  f7   f8  f9  f10  ...  f157  f158  f159  f160  \\\n",
       "0  46 -108  -60 -69 -117  49  38 -161  -8    5  ...  -244  -308    52    -7   \n",
       "1  41 -188 -145  22 -117  -6  57 -171 -39 -100  ...  -235   -59    -2    52   \n",
       "2  46 -194 -145  28 -117  73  57 -168 -39  -22  ...  -238  -134  -154    57   \n",
       "3  41 -188 -145  22 -117  -7  57 -170 -39  -99  ...  -236   -60    -4    52   \n",
       "4  41 -188 -145  22 -117  -7  57 -170 -39  -99  ...  -236   -60    -4    52   \n",
       "\n",
       "   f161  f162  f163  f164  f165  f166  \n",
       "0    39   126   156   -50  -112    96  \n",
       "1   103   136   169   -61  -136    79  \n",
       "2   143   142   165   -67  -145    39  \n",
       "3   104   136   168   -60  -135    80  \n",
       "4   104   137   168   -60  -135    80  \n",
       "\n",
       "[5 rows x 166 columns]"
      ]
     },
     "execution_count": 8,
     "metadata": {},
     "output_type": "execute_result"
    }
   ],
   "source": [
    "data.head()"
   ]
  },
  {
   "cell_type": "code",
   "execution_count": 9,
   "metadata": {},
   "outputs": [
    {
     "data": {
      "text/plain": [
       "166"
      ]
     },
     "execution_count": 9,
     "metadata": {},
     "output_type": "execute_result"
    }
   ],
   "source": [
    "len(data.columns)"
   ]
  },
  {
   "cell_type": "code",
   "execution_count": 10,
   "metadata": {},
   "outputs": [
    {
     "data": {
      "text/plain": [
       "[<matplotlib.lines.Line2D at 0x1dec85e2160>]"
      ]
     },
     "execution_count": 10,
     "metadata": {},
     "output_type": "execute_result"
    },
    {
     "data": {
      "image/png": "[encoded data removed]",
      "text/plain": [
       "<Figure size 432x288 with 1 Axes>"
      ]
     },
     "metadata": {
      "needs_background": "light"
     },
     "output_type": "display_data"
    }
   ],
   "source": [
    "plt.plot(data.f6)"
   ]
  },
  {
   "cell_type": "code",
   "execution_count": 11,
   "metadata": {
    "scrolled": true
   },
   "outputs": [
    {
     "data": {
      "text/plain": [
       "f1      0\n",
       "f2      0\n",
       "f3      0\n",
       "f4      0\n",
       "f5      0\n",
       "       ..\n",
       "f162    0\n",
       "f163    0\n",
       "f164    0\n",
       "f165    0\n",
       "f166    0\n",
       "Length: 166, dtype: int64"
      ]
     },
     "execution_count": 11,
     "metadata": {},
     "output_type": "execute_result"
    }
   ],
   "source": [
    "# to check if null values exists in the data\n",
    "data.isna().sum()\n",
    "# hence no null values exists"
   ]
  },
  {
   "cell_type": "markdown",
   "metadata": {},
   "source": [
    "## scaling the data"
   ]
  },
  {
   "cell_type": "code",
   "execution_count": 12,
   "metadata": {},
   "outputs": [
    {
     "name": "stderr",
     "output_type": "stream",
     "text": [
      "C:\\Users\\uru\\Anaconda3\\lib\\site-packages\\sklearn\\preprocessing\\data.py:645: DataConversionWarning: Data with input dtype int64 were all converted to float64 by StandardScaler.\n",
      "  return self.partial_fit(X, y)\n",
      "C:\\Users\\uru\\Anaconda3\\lib\\site-packages\\sklearn\\base.py:464: DataConversionWarning: Data with input dtype int64 were all converted to float64 by StandardScaler.\n",
      "  return self.fit(X, **fit_params).transform(X)\n"
     ]
    }
   ],
   "source": [
    "from sklearn import preprocessing\n",
    "data = preprocessing.StandardScaler().fit_transform(data)"
   ]
  },
  {
   "cell_type": "code",
   "execution_count": 13,
   "metadata": {},
   "outputs": [
    {
     "data": {
      "text/plain": [
       "array([[-0.24312408,  0.12255207,  0.19347093, ..., -0.04561267,\n",
       "         0.50333227,  0.5762445 ],\n",
       "       [-0.33702966, -0.7584422 , -1.05742889, ..., -0.24537589,\n",
       "         0.18759789,  0.39560282],\n",
       "       [-0.24312408, -0.82451677, -1.05742889, ..., -0.35433764,\n",
       "         0.06919749, -0.02943645],\n",
       "       ...,\n",
       "       [-0.28068632,  0.18862664,  0.79684613, ..., -0.33617735,\n",
       "         0.08235309, -0.50760562],\n",
       "       [-0.1492185 , -0.0206095 ,  0.73798026, ...,  0.06334909,\n",
       "         0.45070987,  0.79939012],\n",
       "       [-0.1492185 , -0.03162193,  0.73798026, ...,  0.06334909,\n",
       "         0.46386547,  0.8100161 ]])"
      ]
     },
     "execution_count": 13,
     "metadata": {},
     "output_type": "execute_result"
    }
   ],
   "source": [
    "data"
   ]
  },
  {
   "cell_type": "markdown",
   "metadata": {},
   "source": [
    "## splitting the data"
   ]
  },
  {
   "cell_type": "code",
   "execution_count": 14,
   "metadata": {},
   "outputs": [],
   "source": [
    "from sklearn.model_selection import train_test_split"
   ]
  },
  {
   "cell_type": "code",
   "execution_count": 15,
   "metadata": {},
   "outputs": [],
   "source": [
    "x = data\n",
    "y = labels\n",
    "x_train, x_test, y_train, y_test = train_test_split(x, y, test_size = .2, stratify = y)"
   ]
  },
  {
   "cell_type": "markdown",
   "metadata": {},
   "source": [
    "## Defining accuracy method"
   ]
  },
  {
   "cell_type": "code",
   "execution_count": 16,
   "metadata": {},
   "outputs": [],
   "source": [
    "from sklearn.metrics import accuracy_score, confusion_matrix, classification_report"
   ]
  },
  {
   "cell_type": "code",
   "execution_count": 17,
   "metadata": {},
   "outputs": [],
   "source": [
    "# method to check model\n",
    "def accuracy(model):\n",
    "    print(\"accuracy of model  -- >  \", accuracy_score(y_test, model.predict(x_test)))\n",
    "    print(\"-----------------------\\         \\n\")\n",
    "    print(\"-----------------------/        \\n\")\n",
    "    print(\"confusion_matrix  \\n\", confusion_matrix(y_test, model.predict(x_test)))\n",
    "    print(\"-----------------------\\         \\n\")\n",
    "    print(\"-----------------------/        \\n\")\n",
    "    print(\"report of model \\n\", classification_report(y_test, model.predict(x_test)))"
   ]
  },
  {
   "cell_type": "markdown",
   "metadata": {},
   "source": [
    "## Random Forest"
   ]
  },
  {
   "cell_type": "code",
   "execution_count": 18,
   "metadata": {},
   "outputs": [],
   "source": [
    "from sklearn.ensemble import RandomForestClassifier    "
   ]
  },
  {
   "cell_type": "code",
   "execution_count": 19,
   "metadata": {},
   "outputs": [
    {
     "name": "stderr",
     "output_type": "stream",
     "text": [
      "C:\\Users\\uru\\Anaconda3\\lib\\site-packages\\sklearn\\ensemble\\forest.py:246: FutureWarning: The default value of n_estimators will change from 10 in version 0.20 to 100 in 0.22.\n",
      "  \"10 in version 0.20 to 100 in 0.22.\", FutureWarning)\n"
     ]
    },
    {
     "name": "stdout",
     "output_type": "stream",
     "text": [
      "accuracy of model  -- >   0.9704545454545455\n",
      "-----------------------\\         \n",
      "\n",
      "-----------------------/        \n",
      "\n",
      "confusion_matrix  \n",
      " [[1110    7]\n",
      " [  32  171]]\n",
      "-----------------------\\         \n",
      "\n",
      "-----------------------/        \n",
      "\n",
      "report of model \n",
      "               precision    recall  f1-score   support\n",
      "\n",
      "           0       0.97      0.99      0.98      1117\n",
      "           1       0.96      0.84      0.90       203\n",
      "\n",
      "   micro avg       0.97      0.97      0.97      1320\n",
      "   macro avg       0.97      0.92      0.94      1320\n",
      "weighted avg       0.97      0.97      0.97      1320\n",
      "\n"
     ]
    }
   ],
   "source": [
    "model = RandomForestClassifier(random_state=42)\n",
    "model.fit(x_train, y_train)\n",
    "accuracy(model)"
   ]
  },
  {
   "cell_type": "markdown",
   "metadata": {},
   "source": [
    "## multilayer perceptron"
   ]
  },
  {
   "cell_type": "code",
   "execution_count": 20,
   "metadata": {},
   "outputs": [],
   "source": [
    "from sklearn.neural_network import MLPClassifier\n",
    "from sklearn.model_selection import GridSearchCV\n",
    "import warnings\n",
    "warnings.filterwarnings(\"ignore\", category = FutureWarning)\n",
    "warnings.filterwarnings(\"ignore\", category = DeprecationWarning)\n",
    "mlp = MLPClassifier()"
   ]
  },
  {
   "cell_type": "code",
   "execution_count": 21,
   "metadata": {},
   "outputs": [],
   "source": [
    "parameters = {\n",
    "    \"hidden_layer_sizes\" : [(10,2), (100,2), (50,2)],\n",
    "    \"activation\" : [\"relu\", \"tanh\", \"logistic\"],\n",
    "    \"learning_rate\" : [\"constant\", \"invscaling\", \"adaptive\"]\n",
    "}"
   ]
  },
  {
   "cell_type": "code",
   "execution_count": 22,
   "metadata": {},
   "outputs": [
    {
     "name": "stderr",
     "output_type": "stream",
     "text": [
      "C:\\Users\\uru\\Anaconda3\\lib\\site-packages\\sklearn\\neural_network\\multilayer_perceptron.py:562: ConvergenceWarning: Stochastic Optimizer: Maximum iterations (200) reached and the optimization hasn't converged yet.\n",
      "  % self.max_iter, ConvergenceWarning)\n",
      "C:\\Users\\uru\\Anaconda3\\lib\\site-packages\\sklearn\\neural_network\\multilayer_perceptron.py:562: ConvergenceWarning: Stochastic Optimizer: Maximum iterations (200) reached and the optimization hasn't converged yet.\n",
      "  % self.max_iter, ConvergenceWarning)\n",
      "C:\\Users\\uru\\Anaconda3\\lib\\site-packages\\sklearn\\neural_network\\multilayer_perceptron.py:562: ConvergenceWarning: Stochastic Optimizer: Maximum iterations (200) reached and the optimization hasn't converged yet.\n",
      "  % self.max_iter, ConvergenceWarning)\n",
      "C:\\Users\\uru\\Anaconda3\\lib\\site-packages\\sklearn\\neural_network\\multilayer_perceptron.py:562: ConvergenceWarning: Stochastic Optimizer: Maximum iterations (200) reached and the optimization hasn't converged yet.\n",
      "  % self.max_iter, ConvergenceWarning)\n",
      "C:\\Users\\uru\\Anaconda3\\lib\\site-packages\\sklearn\\neural_network\\multilayer_perceptron.py:562: ConvergenceWarning: Stochastic Optimizer: Maximum iterations (200) reached and the optimization hasn't converged yet.\n",
      "  % self.max_iter, ConvergenceWarning)\n",
      "C:\\Users\\uru\\Anaconda3\\lib\\site-packages\\sklearn\\neural_network\\multilayer_perceptron.py:562: ConvergenceWarning: Stochastic Optimizer: Maximum iterations (200) reached and the optimization hasn't converged yet.\n",
      "  % self.max_iter, ConvergenceWarning)\n",
      "C:\\Users\\uru\\Anaconda3\\lib\\site-packages\\sklearn\\neural_network\\multilayer_perceptron.py:562: ConvergenceWarning: Stochastic Optimizer: Maximum iterations (200) reached and the optimization hasn't converged yet.\n",
      "  % self.max_iter, ConvergenceWarning)\n",
      "C:\\Users\\uru\\Anaconda3\\lib\\site-packages\\sklearn\\neural_network\\multilayer_perceptron.py:562: ConvergenceWarning: Stochastic Optimizer: Maximum iterations (200) reached and the optimization hasn't converged yet.\n",
      "  % self.max_iter, ConvergenceWarning)\n",
      "C:\\Users\\uru\\Anaconda3\\lib\\site-packages\\sklearn\\neural_network\\multilayer_perceptron.py:564: UserWarning: Training interrupted by user.\n",
      "  warnings.warn(\"Training interrupted by user.\")\n",
      "C:\\Users\\uru\\Anaconda3\\lib\\site-packages\\sklearn\\neural_network\\multilayer_perceptron.py:562: ConvergenceWarning: Stochastic Optimizer: Maximum iterations (200) reached and the optimization hasn't converged yet.\n",
      "  % self.max_iter, ConvergenceWarning)\n",
      "C:\\Users\\uru\\Anaconda3\\lib\\site-packages\\sklearn\\neural_network\\multilayer_perceptron.py:562: ConvergenceWarning: Stochastic Optimizer: Maximum iterations (200) reached and the optimization hasn't converged yet.\n",
      "  % self.max_iter, ConvergenceWarning)\n",
      "C:\\Users\\uru\\Anaconda3\\lib\\site-packages\\sklearn\\neural_network\\multilayer_perceptron.py:562: ConvergenceWarning: Stochastic Optimizer: Maximum iterations (200) reached and the optimization hasn't converged yet.\n",
      "  % self.max_iter, ConvergenceWarning)\n",
      "C:\\Users\\uru\\Anaconda3\\lib\\site-packages\\sklearn\\neural_network\\multilayer_perceptron.py:564: UserWarning: Training interrupted by user.\n",
      "  warnings.warn(\"Training interrupted by user.\")\n",
      "C:\\Users\\uru\\Anaconda3\\lib\\site-packages\\sklearn\\neural_network\\multilayer_perceptron.py:562: ConvergenceWarning: Stochastic Optimizer: Maximum iterations (200) reached and the optimization hasn't converged yet.\n",
      "  % self.max_iter, ConvergenceWarning)\n",
      "C:\\Users\\uru\\Anaconda3\\lib\\site-packages\\sklearn\\neural_network\\multilayer_perceptron.py:562: ConvergenceWarning: Stochastic Optimizer: Maximum iterations (200) reached and the optimization hasn't converged yet.\n",
      "  % self.max_iter, ConvergenceWarning)\n",
      "C:\\Users\\uru\\Anaconda3\\lib\\site-packages\\sklearn\\neural_network\\multilayer_perceptron.py:562: ConvergenceWarning: Stochastic Optimizer: Maximum iterations (200) reached and the optimization hasn't converged yet.\n",
      "  % self.max_iter, ConvergenceWarning)\n",
      "C:\\Users\\uru\\Anaconda3\\lib\\site-packages\\sklearn\\neural_network\\multilayer_perceptron.py:562: ConvergenceWarning: Stochastic Optimizer: Maximum iterations (200) reached and the optimization hasn't converged yet.\n",
      "  % self.max_iter, ConvergenceWarning)\n",
      "C:\\Users\\uru\\Anaconda3\\lib\\site-packages\\sklearn\\neural_network\\multilayer_perceptron.py:562: ConvergenceWarning: Stochastic Optimizer: Maximum iterations (200) reached and the optimization hasn't converged yet.\n",
      "  % self.max_iter, ConvergenceWarning)\n",
      "C:\\Users\\uru\\Anaconda3\\lib\\site-packages\\sklearn\\neural_network\\multilayer_perceptron.py:562: ConvergenceWarning: Stochastic Optimizer: Maximum iterations (200) reached and the optimization hasn't converged yet.\n",
      "  % self.max_iter, ConvergenceWarning)\n",
      "C:\\Users\\uru\\Anaconda3\\lib\\site-packages\\sklearn\\neural_network\\multilayer_perceptron.py:562: ConvergenceWarning: Stochastic Optimizer: Maximum iterations (200) reached and the optimization hasn't converged yet.\n",
      "  % self.max_iter, ConvergenceWarning)\n",
      "C:\\Users\\uru\\Anaconda3\\lib\\site-packages\\sklearn\\neural_network\\multilayer_perceptron.py:562: ConvergenceWarning: Stochastic Optimizer: Maximum iterations (200) reached and the optimization hasn't converged yet.\n",
      "  % self.max_iter, ConvergenceWarning)\n",
      "C:\\Users\\uru\\Anaconda3\\lib\\site-packages\\sklearn\\neural_network\\multilayer_perceptron.py:562: ConvergenceWarning: Stochastic Optimizer: Maximum iterations (200) reached and the optimization hasn't converged yet.\n",
      "  % self.max_iter, ConvergenceWarning)\n",
      "C:\\Users\\uru\\Anaconda3\\lib\\site-packages\\sklearn\\neural_network\\multilayer_perceptron.py:562: ConvergenceWarning: Stochastic Optimizer: Maximum iterations (200) reached and the optimization hasn't converged yet.\n",
      "  % self.max_iter, ConvergenceWarning)\n",
      "C:\\Users\\uru\\Anaconda3\\lib\\site-packages\\sklearn\\neural_network\\multilayer_perceptron.py:562: ConvergenceWarning: Stochastic Optimizer: Maximum iterations (200) reached and the optimization hasn't converged yet.\n",
      "  % self.max_iter, ConvergenceWarning)\n",
      "C:\\Users\\uru\\Anaconda3\\lib\\site-packages\\sklearn\\neural_network\\multilayer_perceptron.py:562: ConvergenceWarning: Stochastic Optimizer: Maximum iterations (200) reached and the optimization hasn't converged yet.\n",
      "  % self.max_iter, ConvergenceWarning)\n",
      "C:\\Users\\uru\\Anaconda3\\lib\\site-packages\\sklearn\\neural_network\\multilayer_perceptron.py:562: ConvergenceWarning: Stochastic Optimizer: Maximum iterations (200) reached and the optimization hasn't converged yet.\n",
      "  % self.max_iter, ConvergenceWarning)\n",
      "C:\\Users\\uru\\Anaconda3\\lib\\site-packages\\sklearn\\neural_network\\multilayer_perceptron.py:562: ConvergenceWarning: Stochastic Optimizer: Maximum iterations (200) reached and the optimization hasn't converged yet.\n",
      "  % self.max_iter, ConvergenceWarning)\n",
      "C:\\Users\\uru\\Anaconda3\\lib\\site-packages\\sklearn\\neural_network\\multilayer_perceptron.py:562: ConvergenceWarning: Stochastic Optimizer: Maximum iterations (200) reached and the optimization hasn't converged yet.\n",
      "  % self.max_iter, ConvergenceWarning)\n",
      "C:\\Users\\uru\\Anaconda3\\lib\\site-packages\\sklearn\\neural_network\\multilayer_perceptron.py:562: ConvergenceWarning: Stochastic Optimizer: Maximum iterations (200) reached and the optimization hasn't converged yet.\n",
      "  % self.max_iter, ConvergenceWarning)\n",
      "C:\\Users\\uru\\Anaconda3\\lib\\site-packages\\sklearn\\neural_network\\multilayer_perceptron.py:562: ConvergenceWarning: Stochastic Optimizer: Maximum iterations (200) reached and the optimization hasn't converged yet.\n",
      "  % self.max_iter, ConvergenceWarning)\n",
      "C:\\Users\\uru\\Anaconda3\\lib\\site-packages\\sklearn\\neural_network\\multilayer_perceptron.py:562: ConvergenceWarning: Stochastic Optimizer: Maximum iterations (200) reached and the optimization hasn't converged yet.\n",
      "  % self.max_iter, ConvergenceWarning)\n",
      "C:\\Users\\uru\\Anaconda3\\lib\\site-packages\\sklearn\\neural_network\\multilayer_perceptron.py:562: ConvergenceWarning: Stochastic Optimizer: Maximum iterations (200) reached and the optimization hasn't converged yet.\n",
      "  % self.max_iter, ConvergenceWarning)\n",
      "C:\\Users\\uru\\Anaconda3\\lib\\site-packages\\sklearn\\neural_network\\multilayer_perceptron.py:562: ConvergenceWarning: Stochastic Optimizer: Maximum iterations (200) reached and the optimization hasn't converged yet.\n",
      "  % self.max_iter, ConvergenceWarning)\n",
      "C:\\Users\\uru\\Anaconda3\\lib\\site-packages\\sklearn\\neural_network\\multilayer_perceptron.py:562: ConvergenceWarning: Stochastic Optimizer: Maximum iterations (200) reached and the optimization hasn't converged yet.\n",
      "  % self.max_iter, ConvergenceWarning)\n"
     ]
    },
    {
     "name": "stderr",
     "output_type": "stream",
     "text": [
      "C:\\Users\\uru\\Anaconda3\\lib\\site-packages\\sklearn\\neural_network\\multilayer_perceptron.py:562: ConvergenceWarning: Stochastic Optimizer: Maximum iterations (200) reached and the optimization hasn't converged yet.\n",
      "  % self.max_iter, ConvergenceWarning)\n",
      "C:\\Users\\uru\\Anaconda3\\lib\\site-packages\\sklearn\\neural_network\\multilayer_perceptron.py:562: ConvergenceWarning: Stochastic Optimizer: Maximum iterations (200) reached and the optimization hasn't converged yet.\n",
      "  % self.max_iter, ConvergenceWarning)\n",
      "C:\\Users\\uru\\Anaconda3\\lib\\site-packages\\sklearn\\neural_network\\multilayer_perceptron.py:562: ConvergenceWarning: Stochastic Optimizer: Maximum iterations (200) reached and the optimization hasn't converged yet.\n",
      "  % self.max_iter, ConvergenceWarning)\n",
      "C:\\Users\\uru\\Anaconda3\\lib\\site-packages\\sklearn\\neural_network\\multilayer_perceptron.py:562: ConvergenceWarning: Stochastic Optimizer: Maximum iterations (200) reached and the optimization hasn't converged yet.\n",
      "  % self.max_iter, ConvergenceWarning)\n",
      "C:\\Users\\uru\\Anaconda3\\lib\\site-packages\\sklearn\\neural_network\\multilayer_perceptron.py:562: ConvergenceWarning: Stochastic Optimizer: Maximum iterations (200) reached and the optimization hasn't converged yet.\n",
      "  % self.max_iter, ConvergenceWarning)\n",
      "C:\\Users\\uru\\Anaconda3\\lib\\site-packages\\sklearn\\neural_network\\multilayer_perceptron.py:562: ConvergenceWarning: Stochastic Optimizer: Maximum iterations (200) reached and the optimization hasn't converged yet.\n",
      "  % self.max_iter, ConvergenceWarning)\n",
      "C:\\Users\\uru\\Anaconda3\\lib\\site-packages\\sklearn\\neural_network\\multilayer_perceptron.py:562: ConvergenceWarning: Stochastic Optimizer: Maximum iterations (200) reached and the optimization hasn't converged yet.\n",
      "  % self.max_iter, ConvergenceWarning)\n",
      "C:\\Users\\uru\\Anaconda3\\lib\\site-packages\\sklearn\\neural_network\\multilayer_perceptron.py:562: ConvergenceWarning: Stochastic Optimizer: Maximum iterations (200) reached and the optimization hasn't converged yet.\n",
      "  % self.max_iter, ConvergenceWarning)\n",
      "C:\\Users\\uru\\Anaconda3\\lib\\site-packages\\sklearn\\neural_network\\multilayer_perceptron.py:562: ConvergenceWarning: Stochastic Optimizer: Maximum iterations (200) reached and the optimization hasn't converged yet.\n",
      "  % self.max_iter, ConvergenceWarning)\n",
      "C:\\Users\\uru\\Anaconda3\\lib\\site-packages\\sklearn\\neural_network\\multilayer_perceptron.py:562: ConvergenceWarning: Stochastic Optimizer: Maximum iterations (200) reached and the optimization hasn't converged yet.\n",
      "  % self.max_iter, ConvergenceWarning)\n",
      "C:\\Users\\uru\\Anaconda3\\lib\\site-packages\\sklearn\\neural_network\\multilayer_perceptron.py:562: ConvergenceWarning: Stochastic Optimizer: Maximum iterations (200) reached and the optimization hasn't converged yet.\n",
      "  % self.max_iter, ConvergenceWarning)\n",
      "C:\\Users\\uru\\Anaconda3\\lib\\site-packages\\sklearn\\neural_network\\multilayer_perceptron.py:562: ConvergenceWarning: Stochastic Optimizer: Maximum iterations (200) reached and the optimization hasn't converged yet.\n",
      "  % self.max_iter, ConvergenceWarning)\n",
      "C:\\Users\\uru\\Anaconda3\\lib\\site-packages\\sklearn\\neural_network\\multilayer_perceptron.py:562: ConvergenceWarning: Stochastic Optimizer: Maximum iterations (200) reached and the optimization hasn't converged yet.\n",
      "  % self.max_iter, ConvergenceWarning)\n",
      "C:\\Users\\uru\\Anaconda3\\lib\\site-packages\\sklearn\\neural_network\\multilayer_perceptron.py:562: ConvergenceWarning: Stochastic Optimizer: Maximum iterations (200) reached and the optimization hasn't converged yet.\n",
      "  % self.max_iter, ConvergenceWarning)\n",
      "C:\\Users\\uru\\Anaconda3\\lib\\site-packages\\sklearn\\neural_network\\multilayer_perceptron.py:562: ConvergenceWarning: Stochastic Optimizer: Maximum iterations (200) reached and the optimization hasn't converged yet.\n",
      "  % self.max_iter, ConvergenceWarning)\n",
      "C:\\Users\\uru\\Anaconda3\\lib\\site-packages\\sklearn\\neural_network\\multilayer_perceptron.py:562: ConvergenceWarning: Stochastic Optimizer: Maximum iterations (200) reached and the optimization hasn't converged yet.\n",
      "  % self.max_iter, ConvergenceWarning)\n",
      "C:\\Users\\uru\\Anaconda3\\lib\\site-packages\\sklearn\\neural_network\\multilayer_perceptron.py:562: ConvergenceWarning: Stochastic Optimizer: Maximum iterations (200) reached and the optimization hasn't converged yet.\n",
      "  % self.max_iter, ConvergenceWarning)\n",
      "C:\\Users\\uru\\Anaconda3\\lib\\site-packages\\sklearn\\neural_network\\multilayer_perceptron.py:562: ConvergenceWarning: Stochastic Optimizer: Maximum iterations (200) reached and the optimization hasn't converged yet.\n",
      "  % self.max_iter, ConvergenceWarning)\n",
      "C:\\Users\\uru\\Anaconda3\\lib\\site-packages\\sklearn\\neural_network\\multilayer_perceptron.py:562: ConvergenceWarning: Stochastic Optimizer: Maximum iterations (200) reached and the optimization hasn't converged yet.\n",
      "  % self.max_iter, ConvergenceWarning)\n",
      "C:\\Users\\uru\\Anaconda3\\lib\\site-packages\\sklearn\\neural_network\\multilayer_perceptron.py:562: ConvergenceWarning: Stochastic Optimizer: Maximum iterations (200) reached and the optimization hasn't converged yet.\n",
      "  % self.max_iter, ConvergenceWarning)\n",
      "C:\\Users\\uru\\Anaconda3\\lib\\site-packages\\sklearn\\neural_network\\multilayer_perceptron.py:562: ConvergenceWarning: Stochastic Optimizer: Maximum iterations (200) reached and the optimization hasn't converged yet.\n",
      "  % self.max_iter, ConvergenceWarning)\n",
      "C:\\Users\\uru\\Anaconda3\\lib\\site-packages\\sklearn\\neural_network\\multilayer_perceptron.py:562: ConvergenceWarning: Stochastic Optimizer: Maximum iterations (200) reached and the optimization hasn't converged yet.\n",
      "  % self.max_iter, ConvergenceWarning)\n",
      "C:\\Users\\uru\\Anaconda3\\lib\\site-packages\\sklearn\\neural_network\\multilayer_perceptron.py:562: ConvergenceWarning: Stochastic Optimizer: Maximum iterations (200) reached and the optimization hasn't converged yet.\n",
      "  % self.max_iter, ConvergenceWarning)\n",
      "C:\\Users\\uru\\Anaconda3\\lib\\site-packages\\sklearn\\neural_network\\multilayer_perceptron.py:562: ConvergenceWarning: Stochastic Optimizer: Maximum iterations (200) reached and the optimization hasn't converged yet.\n",
      "  % self.max_iter, ConvergenceWarning)\n",
      "C:\\Users\\uru\\Anaconda3\\lib\\site-packages\\sklearn\\neural_network\\multilayer_perceptron.py:562: ConvergenceWarning: Stochastic Optimizer: Maximum iterations (200) reached and the optimization hasn't converged yet.\n",
      "  % self.max_iter, ConvergenceWarning)\n",
      "C:\\Users\\uru\\Anaconda3\\lib\\site-packages\\sklearn\\neural_network\\multilayer_perceptron.py:562: ConvergenceWarning: Stochastic Optimizer: Maximum iterations (200) reached and the optimization hasn't converged yet.\n",
      "  % self.max_iter, ConvergenceWarning)\n",
      "C:\\Users\\uru\\Anaconda3\\lib\\site-packages\\sklearn\\neural_network\\multilayer_perceptron.py:562: ConvergenceWarning: Stochastic Optimizer: Maximum iterations (200) reached and the optimization hasn't converged yet.\n",
      "  % self.max_iter, ConvergenceWarning)\n",
      "C:\\Users\\uru\\Anaconda3\\lib\\site-packages\\sklearn\\neural_network\\multilayer_perceptron.py:562: ConvergenceWarning: Stochastic Optimizer: Maximum iterations (200) reached and the optimization hasn't converged yet.\n",
      "  % self.max_iter, ConvergenceWarning)\n",
      "C:\\Users\\uru\\Anaconda3\\lib\\site-packages\\sklearn\\neural_network\\multilayer_perceptron.py:562: ConvergenceWarning: Stochastic Optimizer: Maximum iterations (200) reached and the optimization hasn't converged yet.\n",
      "  % self.max_iter, ConvergenceWarning)\n",
      "C:\\Users\\uru\\Anaconda3\\lib\\site-packages\\sklearn\\neural_network\\multilayer_perceptron.py:562: ConvergenceWarning: Stochastic Optimizer: Maximum iterations (200) reached and the optimization hasn't converged yet.\n",
      "  % self.max_iter, ConvergenceWarning)\n",
      "C:\\Users\\uru\\Anaconda3\\lib\\site-packages\\sklearn\\neural_network\\multilayer_perceptron.py:562: ConvergenceWarning: Stochastic Optimizer: Maximum iterations (200) reached and the optimization hasn't converged yet.\n",
      "  % self.max_iter, ConvergenceWarning)\n",
      "C:\\Users\\uru\\Anaconda3\\lib\\site-packages\\sklearn\\neural_network\\multilayer_perceptron.py:562: ConvergenceWarning: Stochastic Optimizer: Maximum iterations (200) reached and the optimization hasn't converged yet.\n",
      "  % self.max_iter, ConvergenceWarning)\n",
      "C:\\Users\\uru\\Anaconda3\\lib\\site-packages\\sklearn\\neural_network\\multilayer_perceptron.py:562: ConvergenceWarning: Stochastic Optimizer: Maximum iterations (200) reached and the optimization hasn't converged yet.\n",
      "  % self.max_iter, ConvergenceWarning)\n"
     ]
    },
    {
     "name": "stderr",
     "output_type": "stream",
     "text": [
      "C:\\Users\\uru\\Anaconda3\\lib\\site-packages\\sklearn\\neural_network\\multilayer_perceptron.py:562: ConvergenceWarning: Stochastic Optimizer: Maximum iterations (200) reached and the optimization hasn't converged yet.\n",
      "  % self.max_iter, ConvergenceWarning)\n",
      "C:\\Users\\uru\\Anaconda3\\lib\\site-packages\\sklearn\\neural_network\\multilayer_perceptron.py:562: ConvergenceWarning: Stochastic Optimizer: Maximum iterations (200) reached and the optimization hasn't converged yet.\n",
      "  % self.max_iter, ConvergenceWarning)\n",
      "C:\\Users\\uru\\Anaconda3\\lib\\site-packages\\sklearn\\neural_network\\multilayer_perceptron.py:562: ConvergenceWarning: Stochastic Optimizer: Maximum iterations (200) reached and the optimization hasn't converged yet.\n",
      "  % self.max_iter, ConvergenceWarning)\n",
      "C:\\Users\\uru\\Anaconda3\\lib\\site-packages\\sklearn\\neural_network\\multilayer_perceptron.py:562: ConvergenceWarning: Stochastic Optimizer: Maximum iterations (200) reached and the optimization hasn't converged yet.\n",
      "  % self.max_iter, ConvergenceWarning)\n",
      "C:\\Users\\uru\\Anaconda3\\lib\\site-packages\\sklearn\\neural_network\\multilayer_perceptron.py:562: ConvergenceWarning: Stochastic Optimizer: Maximum iterations (200) reached and the optimization hasn't converged yet.\n",
      "  % self.max_iter, ConvergenceWarning)\n",
      "C:\\Users\\uru\\Anaconda3\\lib\\site-packages\\sklearn\\neural_network\\multilayer_perceptron.py:562: ConvergenceWarning: Stochastic Optimizer: Maximum iterations (200) reached and the optimization hasn't converged yet.\n",
      "  % self.max_iter, ConvergenceWarning)\n",
      "C:\\Users\\uru\\Anaconda3\\lib\\site-packages\\sklearn\\neural_network\\multilayer_perceptron.py:562: ConvergenceWarning: Stochastic Optimizer: Maximum iterations (200) reached and the optimization hasn't converged yet.\n",
      "  % self.max_iter, ConvergenceWarning)\n",
      "C:\\Users\\uru\\Anaconda3\\lib\\site-packages\\sklearn\\neural_network\\multilayer_perceptron.py:562: ConvergenceWarning: Stochastic Optimizer: Maximum iterations (200) reached and the optimization hasn't converged yet.\n",
      "  % self.max_iter, ConvergenceWarning)\n",
      "C:\\Users\\uru\\Anaconda3\\lib\\site-packages\\sklearn\\neural_network\\multilayer_perceptron.py:562: ConvergenceWarning: Stochastic Optimizer: Maximum iterations (200) reached and the optimization hasn't converged yet.\n",
      "  % self.max_iter, ConvergenceWarning)\n",
      "C:\\Users\\uru\\Anaconda3\\lib\\site-packages\\sklearn\\neural_network\\multilayer_perceptron.py:562: ConvergenceWarning: Stochastic Optimizer: Maximum iterations (200) reached and the optimization hasn't converged yet.\n",
      "  % self.max_iter, ConvergenceWarning)\n",
      "C:\\Users\\uru\\Anaconda3\\lib\\site-packages\\sklearn\\neural_network\\multilayer_perceptron.py:562: ConvergenceWarning: Stochastic Optimizer: Maximum iterations (200) reached and the optimization hasn't converged yet.\n",
      "  % self.max_iter, ConvergenceWarning)\n",
      "C:\\Users\\uru\\Anaconda3\\lib\\site-packages\\sklearn\\neural_network\\multilayer_perceptron.py:562: ConvergenceWarning: Stochastic Optimizer: Maximum iterations (200) reached and the optimization hasn't converged yet.\n",
      "  % self.max_iter, ConvergenceWarning)\n",
      "C:\\Users\\uru\\Anaconda3\\lib\\site-packages\\sklearn\\neural_network\\multilayer_perceptron.py:562: ConvergenceWarning: Stochastic Optimizer: Maximum iterations (200) reached and the optimization hasn't converged yet.\n",
      "  % self.max_iter, ConvergenceWarning)\n",
      "C:\\Users\\uru\\Anaconda3\\lib\\site-packages\\sklearn\\neural_network\\multilayer_perceptron.py:562: ConvergenceWarning: Stochastic Optimizer: Maximum iterations (200) reached and the optimization hasn't converged yet.\n",
      "  % self.max_iter, ConvergenceWarning)\n",
      "C:\\Users\\uru\\Anaconda3\\lib\\site-packages\\sklearn\\neural_network\\multilayer_perceptron.py:562: ConvergenceWarning: Stochastic Optimizer: Maximum iterations (200) reached and the optimization hasn't converged yet.\n",
      "  % self.max_iter, ConvergenceWarning)\n"
     ]
    },
    {
     "data": {
      "text/plain": [
       "GridSearchCV(cv=5, error_score='raise-deprecating',\n",
       "       estimator=MLPClassifier(activation='relu', alpha=0.0001, batch_size='auto', beta_1=0.9,\n",
       "       beta_2=0.999, early_stopping=False, epsilon=1e-08,\n",
       "       hidden_layer_sizes=(100,), learning_rate='constant',\n",
       "       learning_rate_init=0.001, max_iter=200, momentum=0.9,\n",
       "       n_iter_no_change=10, nesterovs_momentum=True, power_t=0.5,\n",
       "       random_state=None, shuffle=True, solver='adam', tol=0.0001,\n",
       "       validation_fraction=0.1, verbose=False, warm_start=False),\n",
       "       fit_params=None, iid='warn', n_jobs=None,\n",
       "       param_grid={'hidden_layer_sizes': [(10, 2), (100, 2), (50, 2)], 'activation': ['relu', 'tanh', 'logistic'], 'learning_rate': ['constant', 'invscaling', 'adaptive']},\n",
       "       pre_dispatch='2*n_jobs', refit=True, return_train_score='warn',\n",
       "       scoring=None, verbose=0)"
      ]
     },
     "execution_count": 22,
     "metadata": {},
     "output_type": "execute_result"
    }
   ],
   "source": [
    "cv= GridSearchCV(mlp, parameters, cv = 5)\n",
    "cv.fit(x_train, y_train)"
   ]
  },
  {
   "cell_type": "code",
   "execution_count": 23,
   "metadata": {},
   "outputs": [
    {
     "name": "stdout",
     "output_type": "stream",
     "text": [
      "accuracy of model  -- >   0.9962121212121212\n",
      "-----------------------\\         \n",
      "\n",
      "-----------------------/        \n",
      "\n",
      "confusion_matrix  \n",
      " [[1112    5]\n",
      " [   0  203]]\n",
      "-----------------------\\         \n",
      "\n",
      "-----------------------/        \n",
      "\n",
      "report of model \n",
      "               precision    recall  f1-score   support\n",
      "\n",
      "           0       1.00      1.00      1.00      1117\n",
      "           1       0.98      1.00      0.99       203\n",
      "\n",
      "   micro avg       1.00      1.00      1.00      1320\n",
      "   macro avg       0.99      1.00      0.99      1320\n",
      "weighted avg       1.00      1.00      1.00      1320\n",
      "\n"
     ]
    }
   ],
   "source": [
    "model = cv.best_estimator_\n",
    "model.fit(x_train, y_train)\n",
    "accuracy(model)"
   ]
  },
  {
   "cell_type": "code",
   "execution_count": 24,
   "metadata": {},
   "outputs": [
    {
     "data": {
      "text/plain": [
       "MLPClassifier(activation='tanh', alpha=0.0001, batch_size='auto', beta_1=0.9,\n",
       "       beta_2=0.999, early_stopping=False, epsilon=1e-08,\n",
       "       hidden_layer_sizes=(50, 2), learning_rate='adaptive',\n",
       "       learning_rate_init=0.001, max_iter=200, momentum=0.9,\n",
       "       n_iter_no_change=10, nesterovs_momentum=True, power_t=0.5,\n",
       "       random_state=None, shuffle=True, solver='adam', tol=0.0001,\n",
       "       validation_fraction=0.1, verbose=False, warm_start=False)"
      ]
     },
     "execution_count": 24,
     "metadata": {},
     "output_type": "execute_result"
    }
   ],
   "source": [
    "model\n"
   ]
  },
  {
   "cell_type": "markdown",
   "metadata": {},
   "source": [
    "## Using Keras"
   ]
  },
  {
   "cell_type": "code",
   "execution_count": 25,
   "metadata": {},
   "outputs": [
    {
     "name": "stderr",
     "output_type": "stream",
     "text": [
      "Using TensorFlow backend.\n"
     ]
    },
    {
     "name": "stdout",
     "output_type": "stream",
     "text": [
      "WARNING:tensorflow:From C:\\Users\\uru\\Anaconda3\\lib\\site-packages\\keras\\backend\\tensorflow_backend.py:66: The name tf.get_default_graph is deprecated. Please use tf.compat.v1.get_default_graph instead.\n",
      "\n",
      "WARNING:tensorflow:From C:\\Users\\uru\\Anaconda3\\lib\\site-packages\\keras\\backend\\tensorflow_backend.py:541: The name tf.placeholder is deprecated. Please use tf.compat.v1.placeholder instead.\n",
      "\n",
      "WARNING:tensorflow:From C:\\Users\\uru\\Anaconda3\\lib\\site-packages\\keras\\backend\\tensorflow_backend.py:4432: The name tf.random_uniform is deprecated. Please use tf.random.uniform instead.\n",
      "\n",
      "WARNING:tensorflow:From C:\\Users\\uru\\Anaconda3\\lib\\site-packages\\keras\\optimizers.py:793: The name tf.train.Optimizer is deprecated. Please use tf.compat.v1.train.Optimizer instead.\n",
      "\n",
      "WARNING:tensorflow:From C:\\Users\\uru\\Anaconda3\\lib\\site-packages\\keras\\backend\\tensorflow_backend.py:3657: The name tf.log is deprecated. Please use tf.math.log instead.\n",
      "\n",
      "WARNING:tensorflow:From C:\\Users\\uru\\Anaconda3\\lib\\site-packages\\tensorflow\\python\\ops\\nn_impl.py:180: add_dispatch_support.<locals>.wrapper (from tensorflow.python.ops.array_ops) is deprecated and will be removed in a future version.\n",
      "Instructions for updating:\n",
      "Use tf.where in 2.0, which has the same broadcast rule as np.where\n"
     ]
    },
    {
     "name": "stderr",
     "output_type": "stream",
     "text": [
      "C:\\Users\\uru\\Anaconda3\\lib\\site-packages\\ipykernel_launcher.py:7: UserWarning: Update your `Dense` call to the Keras 2 API: `Dense(activation=\"relu\", input_dim=166, units=83, kernel_initializer=\"uniform\")`\n",
      "  import sys\n",
      "C:\\Users\\uru\\Anaconda3\\lib\\site-packages\\ipykernel_launcher.py:8: UserWarning: Update your `Dense` call to the Keras 2 API: `Dense(activation=\"relu\", units=40, kernel_initializer=\"uniform\")`\n",
      "  \n",
      "C:\\Users\\uru\\Anaconda3\\lib\\site-packages\\ipykernel_launcher.py:9: UserWarning: Update your `Dense` call to the Keras 2 API: `Dense(activation=\"relu\", units=20, kernel_initializer=\"uniform\")`\n",
      "  if __name__ == '__main__':\n",
      "C:\\Users\\uru\\Anaconda3\\lib\\site-packages\\ipykernel_launcher.py:10: UserWarning: Update your `Dense` call to the Keras 2 API: `Dense(activation=\"sigmoid\", units=1, kernel_initializer=\"uniform\")`\n",
      "  # Remove the CWD from sys.path while we load stuff.\n"
     ]
    }
   ],
   "source": [
    "import tensorflow as tf\n",
    "import keras\n",
    "from keras.models import Sequential\n",
    "from keras.layers import Dense\n",
    "\n",
    "classifier = Sequential()\n",
    "classifier.add(Dense(output_dim = 83, init = 'uniform', activation = 'relu', input_dim = 166))\n",
    "classifier.add(Dense(output_dim = 40, init = 'uniform', activation = 'relu'))\n",
    "classifier.add(Dense(output_dim = 20, init = 'uniform', activation = 'relu'))\n",
    "classifier.add(Dense(output_dim = 1, init = 'uniform', activation = 'sigmoid'))\n",
    "classifier.compile(optimizer = 'adam', loss = 'binary_crossentropy', metrics = ['accuracy'])"
   ]
  },
  {
   "cell_type": "code",
   "execution_count": 26,
   "metadata": {
    "scrolled": true
   },
   "outputs": [
    {
     "name": "stdout",
     "output_type": "stream",
     "text": [
      "WARNING:tensorflow:From C:\\Users\\uru\\Anaconda3\\lib\\site-packages\\keras\\backend\\tensorflow_backend.py:1033: The name tf.assign_add is deprecated. Please use tf.compat.v1.assign_add instead.\n",
      "\n",
      "Train on 5278 samples, validate on 1320 samples\n",
      "Epoch 1/100\n",
      "5278/5278 [==============================] - 0s 49us/step - loss: 0.6917 - acc: 0.7509 - val_loss: 0.6880 - val_acc: 0.8462\n",
      "Epoch 2/100\n",
      "5278/5278 [==============================] - 0s 4us/step - loss: 0.6845 - acc: 0.8458 - val_loss: 0.6749 - val_acc: 0.8462\n",
      "Epoch 3/100\n",
      "5278/5278 [==============================] - 0s 5us/step - loss: 0.6652 - acc: 0.8458 - val_loss: 0.6392 - val_acc: 0.8462\n",
      "Epoch 4/100\n",
      "5278/5278 [==============================] - 0s 4us/step - loss: 0.6158 - acc: 0.8458 - val_loss: 0.5572 - val_acc: 0.8462\n",
      "Epoch 5/100\n",
      "5278/5278 [==============================] - 0s 5us/step - loss: 0.5171 - acc: 0.8458 - val_loss: 0.4318 - val_acc: 0.8462\n",
      "Epoch 6/100\n",
      "5278/5278 [==============================] - 0s 4us/step - loss: 0.4041 - acc: 0.8458 - val_loss: 0.3609 - val_acc: 0.8462\n",
      "Epoch 7/100\n",
      "5278/5278 [==============================] - 0s 4us/step - loss: 0.3671 - acc: 0.8458 - val_loss: 0.3627 - val_acc: 0.8462\n",
      "Epoch 8/100\n",
      "5278/5278 [==============================] - 0s 5us/step - loss: 0.3557 - acc: 0.8458 - val_loss: 0.3391 - val_acc: 0.8462\n",
      "Epoch 9/100\n",
      "5278/5278 [==============================] - 0s 4us/step - loss: 0.3271 - acc: 0.8458 - val_loss: 0.3206 - val_acc: 0.8462\n",
      "Epoch 10/100\n",
      "5278/5278 [==============================] - 0s 5us/step - loss: 0.3101 - acc: 0.8458 - val_loss: 0.3063 - val_acc: 0.8462\n",
      "Epoch 11/100\n",
      "5278/5278 [==============================] - 0s 4us/step - loss: 0.2926 - acc: 0.8458 - val_loss: 0.2883 - val_acc: 0.8462\n",
      "Epoch 12/100\n",
      "5278/5278 [==============================] - 0s 5us/step - loss: 0.2738 - acc: 0.8458 - val_loss: 0.2736 - val_acc: 0.8462\n",
      "Epoch 13/100\n",
      "5278/5278 [==============================] - 0s 4us/step - loss: 0.2587 - acc: 0.8458 - val_loss: 0.2615 - val_acc: 0.8462\n",
      "Epoch 14/100\n",
      "5278/5278 [==============================] - 0s 4us/step - loss: 0.2453 - acc: 0.8458 - val_loss: 0.2514 - val_acc: 0.8462\n",
      "Epoch 15/100\n",
      "5278/5278 [==============================] - 0s 4us/step - loss: 0.2343 - acc: 0.8458 - val_loss: 0.2426 - val_acc: 0.8462\n",
      "Epoch 16/100\n",
      "5278/5278 [==============================] - 0s 5us/step - loss: 0.2256 - acc: 0.8458 - val_loss: 0.2342 - val_acc: 0.8462\n",
      "Epoch 17/100\n",
      "5278/5278 [==============================] - 0s 4us/step - loss: 0.2181 - acc: 0.8458 - val_loss: 0.2283 - val_acc: 0.8462\n",
      "Epoch 18/100\n",
      "5278/5278 [==============================] - 0s 4us/step - loss: 0.2113 - acc: 0.8458 - val_loss: 0.2208 - val_acc: 0.8462\n",
      "Epoch 19/100\n",
      "5278/5278 [==============================] - 0s 4us/step - loss: 0.2059 - acc: 0.8458 - val_loss: 0.2130 - val_acc: 0.8462\n",
      "Epoch 20/100\n",
      "5278/5278 [==============================] - 0s 4us/step - loss: 0.2001 - acc: 0.8458 - val_loss: 0.2059 - val_acc: 0.8462\n",
      "Epoch 21/100\n",
      "5278/5278 [==============================] - 0s 4us/step - loss: 0.1946 - acc: 0.8458 - val_loss: 0.1980 - val_acc: 0.8462\n",
      "Epoch 22/100\n",
      "5278/5278 [==============================] - 0s 5us/step - loss: 0.1897 - acc: 0.8458 - val_loss: 0.1920 - val_acc: 0.8462\n",
      "Epoch 23/100\n",
      "5278/5278 [==============================] - 0s 4us/step - loss: 0.1850 - acc: 0.8458 - val_loss: 0.1870 - val_acc: 0.8462\n",
      "Epoch 24/100\n",
      "5278/5278 [==============================] - 0s 4us/step - loss: 0.1805 - acc: 0.8458 - val_loss: 0.1799 - val_acc: 0.8462\n",
      "Epoch 25/100\n",
      "5278/5278 [==============================] - 0s 6us/step - loss: 0.1762 - acc: 0.8458 - val_loss: 0.1750 - val_acc: 0.8462\n",
      "Epoch 26/100\n",
      "5278/5278 [==============================] - 0s 4us/step - loss: 0.1718 - acc: 0.8458 - val_loss: 0.1697 - val_acc: 0.8462\n",
      "Epoch 27/100\n",
      "5278/5278 [==============================] - 0s 4us/step - loss: 0.1675 - acc: 0.8458 - val_loss: 0.1648 - val_acc: 0.8462\n",
      "Epoch 28/100\n",
      "5278/5278 [==============================] - 0s 4us/step - loss: 0.1634 - acc: 0.8458 - val_loss: 0.1610 - val_acc: 0.8462\n",
      "Epoch 29/100\n",
      "5278/5278 [==============================] - 0s 4us/step - loss: 0.1592 - acc: 0.8458 - val_loss: 0.1569 - val_acc: 0.8462\n",
      "Epoch 30/100\n",
      "5278/5278 [==============================] - 0s 4us/step - loss: 0.1551 - acc: 0.9382 - val_loss: 0.1528 - val_acc: 0.9515\n",
      "Epoch 31/100\n",
      "5278/5278 [==============================] - 0s 4us/step - loss: 0.1512 - acc: 0.9615 - val_loss: 0.1500 - val_acc: 0.9523\n",
      "Epoch 32/100\n",
      "5278/5278 [==============================] - 0s 4us/step - loss: 0.1473 - acc: 0.9661 - val_loss: 0.1468 - val_acc: 0.9545\n",
      "Epoch 33/100\n",
      "5278/5278 [==============================] - 0s 5us/step - loss: 0.1437 - acc: 0.9659 - val_loss: 0.1432 - val_acc: 0.9598\n",
      "Epoch 34/100\n",
      "5278/5278 [==============================] - 0s 4us/step - loss: 0.1398 - acc: 0.9735 - val_loss: 0.1395 - val_acc: 0.9606\n",
      "Epoch 35/100\n",
      "5278/5278 [==============================] - 0s 4us/step - loss: 0.1366 - acc: 0.9739 - val_loss: 0.1357 - val_acc: 0.9636\n",
      "Epoch 36/100\n",
      "5278/5278 [==============================] - 0s 4us/step - loss: 0.1333 - acc: 0.9748 - val_loss: 0.1349 - val_acc: 0.9682\n",
      "Epoch 37/100\n",
      "5278/5278 [==============================] - 0s 4us/step - loss: 0.1302 - acc: 0.9788 - val_loss: 0.1316 - val_acc: 0.9636\n",
      "Epoch 38/100\n",
      "5278/5278 [==============================] - 0s 4us/step - loss: 0.1273 - acc: 0.9799 - val_loss: 0.1306 - val_acc: 0.9674\n",
      "Epoch 39/100\n",
      "5278/5278 [==============================] - 0s 4us/step - loss: 0.1245 - acc: 0.9816 - val_loss: 0.1281 - val_acc: 0.9705\n",
      "Epoch 40/100\n",
      "5278/5278 [==============================] - 0s 4us/step - loss: 0.1223 - acc: 0.9856 - val_loss: 0.1276 - val_acc: 0.9727\n",
      "Epoch 41/100\n",
      "5278/5278 [==============================] - 0s 4us/step - loss: 0.1204 - acc: 0.9803 - val_loss: 0.1248 - val_acc: 0.9788\n",
      "Epoch 42/100\n",
      "5278/5278 [==============================] - 0s 4us/step - loss: 0.1185 - acc: 0.9869 - val_loss: 0.1233 - val_acc: 0.9765\n",
      "Epoch 43/100\n",
      "5278/5278 [==============================] - 0s 6us/step - loss: 0.1162 - acc: 0.9871 - val_loss: 0.1226 - val_acc: 0.9765\n",
      "Epoch 44/100\n",
      "5278/5278 [==============================] - 0s 4us/step - loss: 0.1143 - acc: 0.9898 - val_loss: 0.1205 - val_acc: 0.9780\n",
      "Epoch 45/100\n",
      "5278/5278 [==============================] - 0s 4us/step - loss: 0.1130 - acc: 0.9901 - val_loss: 0.1180 - val_acc: 0.9826\n",
      "Epoch 46/100\n",
      "5278/5278 [==============================] - 0s 4us/step - loss: 0.1111 - acc: 0.9917 - val_loss: 0.1183 - val_acc: 0.9773\n",
      "Epoch 47/100\n",
      "5278/5278 [==============================] - 0s 4us/step - loss: 0.1100 - acc: 0.9903 - val_loss: 0.1163 - val_acc: 0.9788\n",
      "Epoch 48/100\n",
      "5278/5278 [==============================] - 0s 4us/step - loss: 0.1091 - acc: 0.9943 - val_loss: 0.1153 - val_acc: 0.9811\n",
      "Epoch 49/100\n",
      "5278/5278 [==============================] - 0s 4us/step - loss: 0.1078 - acc: 0.9949 - val_loss: 0.1167 - val_acc: 0.9750\n",
      "Epoch 50/100\n",
      "5278/5278 [==============================] - 0s 4us/step - loss: 0.1070 - acc: 0.9900 - val_loss: 0.1150 - val_acc: 0.9841\n",
      "Epoch 51/100\n",
      "5278/5278 [==============================] - 0s 4us/step - loss: 0.1066 - acc: 0.9964 - val_loss: 0.1137 - val_acc: 0.9818\n",
      "Epoch 52/100\n",
      "5278/5278 [==============================] - 0s 4us/step - loss: 0.1057 - acc: 0.9937 - val_loss: 0.1141 - val_acc: 0.9758\n",
      "Epoch 53/100\n",
      "5278/5278 [==============================] - 0s 4us/step - loss: 0.1049 - acc: 0.9968 - val_loss: 0.1132 - val_acc: 0.9803\n",
      "Epoch 54/100\n",
      "5278/5278 [==============================] - 0s 4us/step - loss: 0.1041 - acc: 0.9943 - val_loss: 0.1122 - val_acc: 0.9841\n",
      "Epoch 55/100\n",
      "5278/5278 [==============================] - 0s 4us/step - loss: 0.1033 - acc: 0.9972 - val_loss: 0.1116 - val_acc: 0.9833\n",
      "Epoch 56/100\n",
      "5278/5278 [==============================] - 0s 4us/step - loss: 0.1028 - acc: 0.9966 - val_loss: 0.1135 - val_acc: 0.9803\n",
      "Epoch 57/100\n",
      "5278/5278 [==============================] - 0s 4us/step - loss: 0.1025 - acc: 0.9966 - val_loss: 0.1112 - val_acc: 0.9864\n",
      "Epoch 58/100\n",
      "5278/5278 [==============================] - 0s 4us/step - loss: 0.1020 - acc: 0.9968 - val_loss: 0.1132 - val_acc: 0.9788\n",
      "Epoch 59/100\n"
     ]
    },
    {
     "name": "stdout",
     "output_type": "stream",
     "text": [
      "5278/5278 [==============================] - 0s 4us/step - loss: 0.1017 - acc: 0.9970 - val_loss: 0.1100 - val_acc: 0.9841\n",
      "Epoch 60/100\n",
      "5278/5278 [==============================] - 0s 4us/step - loss: 0.1013 - acc: 0.9975 - val_loss: 0.1116 - val_acc: 0.9803\n",
      "Epoch 61/100\n",
      "5278/5278 [==============================] - 0s 4us/step - loss: 0.1006 - acc: 0.9972 - val_loss: 0.1114 - val_acc: 0.9826\n",
      "Epoch 62/100\n",
      "5278/5278 [==============================] - 0s 4us/step - loss: 0.1001 - acc: 0.9985 - val_loss: 0.1117 - val_acc: 0.9826\n",
      "Epoch 63/100\n",
      "5278/5278 [==============================] - 0s 4us/step - loss: 0.1000 - acc: 0.9977 - val_loss: 0.1090 - val_acc: 0.9848\n",
      "Epoch 64/100\n",
      "5278/5278 [==============================] - 0s 4us/step - loss: 0.0993 - acc: 0.9983 - val_loss: 0.1098 - val_acc: 0.9833\n",
      "Epoch 65/100\n",
      "5278/5278 [==============================] - 0s 4us/step - loss: 0.0988 - acc: 0.9985 - val_loss: 0.1095 - val_acc: 0.9856\n",
      "Epoch 66/100\n",
      "5278/5278 [==============================] - 0s 4us/step - loss: 0.0984 - acc: 0.9991 - val_loss: 0.1092 - val_acc: 0.9818\n",
      "Epoch 67/100\n",
      "5278/5278 [==============================] - 0s 4us/step - loss: 0.0979 - acc: 0.9991 - val_loss: 0.1098 - val_acc: 0.9803\n",
      "Epoch 68/100\n",
      "5278/5278 [==============================] - 0s 4us/step - loss: 0.0975 - acc: 0.9991 - val_loss: 0.1078 - val_acc: 0.9879\n",
      "Epoch 69/100\n",
      "5278/5278 [==============================] - 0s 4us/step - loss: 0.0974 - acc: 0.9991 - val_loss: 0.1101 - val_acc: 0.9811\n",
      "Epoch 70/100\n",
      "5278/5278 [==============================] - 0s 4us/step - loss: 0.0971 - acc: 0.9983 - val_loss: 0.1085 - val_acc: 0.9848\n",
      "Epoch 71/100\n",
      "5278/5278 [==============================] - 0s 4us/step - loss: 0.0966 - acc: 0.9985 - val_loss: 0.1088 - val_acc: 0.9818\n",
      "Epoch 72/100\n",
      "5278/5278 [==============================] - 0s 4us/step - loss: 0.0962 - acc: 0.9989 - val_loss: 0.1061 - val_acc: 0.9864\n",
      "Epoch 73/100\n",
      "5278/5278 [==============================] - 0s 4us/step - loss: 0.0959 - acc: 0.9992 - val_loss: 0.1063 - val_acc: 0.9848\n",
      "Epoch 74/100\n",
      "5278/5278 [==============================] - 0s 4us/step - loss: 0.0955 - acc: 0.9992 - val_loss: 0.1071 - val_acc: 0.9856\n",
      "Epoch 75/100\n",
      "5278/5278 [==============================] - 0s 4us/step - loss: 0.0951 - acc: 0.9992 - val_loss: 0.1070 - val_acc: 0.9826\n",
      "Epoch 76/100\n",
      "5278/5278 [==============================] - 0s 4us/step - loss: 0.0948 - acc: 0.9989 - val_loss: 0.1049 - val_acc: 0.9902\n",
      "Epoch 77/100\n",
      "5278/5278 [==============================] - 0s 4us/step - loss: 0.0947 - acc: 0.9992 - val_loss: 0.1056 - val_acc: 0.9871\n",
      "Epoch 78/100\n",
      "5278/5278 [==============================] - 0s 4us/step - loss: 0.0943 - acc: 0.9985 - val_loss: 0.1049 - val_acc: 0.9871\n",
      "Epoch 79/100\n",
      "5278/5278 [==============================] - 0s 4us/step - loss: 0.0939 - acc: 0.9992 - val_loss: 0.1047 - val_acc: 0.9864\n",
      "Epoch 80/100\n",
      "5278/5278 [==============================] - 0s 4us/step - loss: 0.0935 - acc: 0.9989 - val_loss: 0.1058 - val_acc: 0.9841\n",
      "Epoch 81/100\n",
      "5278/5278 [==============================] - 0s 4us/step - loss: 0.0932 - acc: 0.9992 - val_loss: 0.1056 - val_acc: 0.9841\n",
      "Epoch 82/100\n",
      "5278/5278 [==============================] - 0s 5us/step - loss: 0.0929 - acc: 0.9991 - val_loss: 0.1046 - val_acc: 0.9848\n",
      "Epoch 83/100\n",
      "5278/5278 [==============================] - 0s 4us/step - loss: 0.0925 - acc: 0.9991 - val_loss: 0.1044 - val_acc: 0.9864\n",
      "Epoch 84/100\n",
      "5278/5278 [==============================] - 0s 5us/step - loss: 0.0922 - acc: 0.9992 - val_loss: 0.1046 - val_acc: 0.9864\n",
      "Epoch 85/100\n",
      "5278/5278 [==============================] - 0s 4us/step - loss: 0.0918 - acc: 0.9994 - val_loss: 0.1032 - val_acc: 0.9871\n",
      "Epoch 86/100\n",
      "5278/5278 [==============================] - 0s 4us/step - loss: 0.0915 - acc: 0.9992 - val_loss: 0.1025 - val_acc: 0.9864\n",
      "Epoch 87/100\n",
      "5278/5278 [==============================] - 0s 4us/step - loss: 0.0912 - acc: 0.9994 - val_loss: 0.1009 - val_acc: 0.9879\n",
      "Epoch 88/100\n",
      "5278/5278 [==============================] - 0s 4us/step - loss: 0.0908 - acc: 0.9994 - val_loss: 0.1018 - val_acc: 0.9848\n",
      "Epoch 89/100\n",
      "5278/5278 [==============================] - 0s 4us/step - loss: 0.0905 - acc: 0.9994 - val_loss: 0.1019 - val_acc: 0.9841\n",
      "Epoch 90/100\n",
      "5278/5278 [==============================] - 0s 4us/step - loss: 0.0902 - acc: 0.9994 - val_loss: 0.1014 - val_acc: 0.9864\n",
      "Epoch 91/100\n",
      "5278/5278 [==============================] - 0s 4us/step - loss: 0.0901 - acc: 0.9992 - val_loss: 0.1004 - val_acc: 0.9894\n",
      "Epoch 92/100\n",
      "5278/5278 [==============================] - 0s 4us/step - loss: 0.0897 - acc: 0.9992 - val_loss: 0.1017 - val_acc: 0.9856\n",
      "Epoch 93/100\n",
      "5278/5278 [==============================] - 0s 4us/step - loss: 0.0894 - acc: 0.9991 - val_loss: 0.0979 - val_acc: 0.9886\n",
      "Epoch 94/100\n",
      "5278/5278 [==============================] - 0s 4us/step - loss: 0.0890 - acc: 0.9994 - val_loss: 0.0975 - val_acc: 0.9894\n",
      "Epoch 95/100\n",
      "5278/5278 [==============================] - 0s 5us/step - loss: 0.0887 - acc: 0.9994 - val_loss: 0.0967 - val_acc: 0.9909\n",
      "Epoch 96/100\n",
      "5278/5278 [==============================] - 0s 4us/step - loss: 0.0883 - acc: 0.9994 - val_loss: 0.0974 - val_acc: 0.9879\n",
      "Epoch 97/100\n",
      "5278/5278 [==============================] - 0s 4us/step - loss: 0.0880 - acc: 0.9992 - val_loss: 0.0974 - val_acc: 0.9886\n",
      "Epoch 98/100\n",
      "5278/5278 [==============================] - 0s 4us/step - loss: 0.0877 - acc: 0.9994 - val_loss: 0.0980 - val_acc: 0.9871\n",
      "Epoch 99/100\n",
      "5278/5278 [==============================] - 0s 4us/step - loss: 0.0874 - acc: 0.9994 - val_loss: 0.0977 - val_acc: 0.9879\n",
      "Epoch 100/100\n",
      "5278/5278 [==============================] - 0s 4us/step - loss: 0.0871 - acc: 0.9994 - val_loss: 0.0965 - val_acc: 0.9894\n"
     ]
    }
   ],
   "source": [
    "history = classifier.fit(x_train, y_train, epochs=100, batch_size=1000, validation_data=(x_test, y_test))    "
   ]
  },
  {
   "cell_type": "code",
   "execution_count": 27,
   "metadata": {},
   "outputs": [
    {
     "data": {
      "image/png": "[encoded data removed]",
      "text/plain": [
       "<Figure size 432x288 with 1 Axes>"
      ]
     },
     "metadata": {
      "needs_background": "light"
     },
     "output_type": "display_data"
    }
   ],
   "source": [
    "loss_train = history.history['loss']\n",
    "loss_val = history.history['val_loss']\n",
    "epochs = range(1,101)\n",
    "plt.plot(epochs, loss_train, 'g', label='Training loss')\n",
    "plt.plot(epochs, loss_val, 'b', label='validation loss')\n",
    "plt.title('Training and Validation loss')\n",
    "plt.xlabel('Epochs')\n",
    "plt.ylabel('Loss')\n",
    "plt.legend()\n",
    "plt.show()"
   ]
  },
  {
   "cell_type": "code",
   "execution_count": 28,
   "metadata": {},
   "outputs": [
    {
     "data": {
      "image/png": "[encoded data removed]",
      "text/plain": [
       "<Figure size 432x288 with 1 Axes>"
      ]
     },
     "metadata": {
      "needs_background": "light"
     },
     "output_type": "display_data"
    }
   ],
   "source": [
    "loss_train = history.history['acc']\n",
    "loss_val = history.history['val_acc']\n",
    "epochs = range(0,100)\n",
    "plt.plot(epochs, loss_train, 'g', label='Training accuracy')\n",
    "plt.plot(epochs, loss_val, 'b', label='validation accuracy')\n",
    "plt.title('Training and Validation accuracy')\n",
    "plt.xlabel('Epochs')\n",
    "plt.ylabel('Accuracy')\n",
    "plt.legend()\n",
    "plt.show()"
   ]
  }
 ],
 "metadata": {
  "kernelspec": {
   "display_name": "Python 3",
   "language": "python",
   "name": "python3"
  },
  "language_info": {
   "codemirror_mode": {
    "name": "ipython",
    "version": 3
   },
   "file_extension": ".py",
   "mimetype": "text/x-python",
   "name": "python",
   "nbconvert_exporter": "python",
   "pygments_lexer": "ipython3",
   "version": "3.7.3"
  }
 },
 "nbformat": 4,
 "nbformat_minor": 2
}
